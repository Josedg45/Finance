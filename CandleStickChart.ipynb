import datetime as dt
import matplotlib.pyplot as plt
import matplotlib.dates as mdates
import mplfinance as mpf
import yfinance as yf
